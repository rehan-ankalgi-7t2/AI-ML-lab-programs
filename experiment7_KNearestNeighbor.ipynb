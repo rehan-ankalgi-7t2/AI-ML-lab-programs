{
 "cells": [
  {
   "cell_type": "code",
   "execution_count": 9,
   "metadata": {},
   "outputs": [],
   "source": [
    "# importing the required packages\n",
    "\n",
    "from sklearn.model_selection import train_test_split\n",
    "from sklearn.neighbors import KNeighborsClassifier\n",
    "from sklearn import datasets"
   ]
  },
  {
   "cell_type": "code",
   "execution_count": 10,
   "metadata": {},
   "outputs": [
    {
     "name": "stdout",
     "output_type": "stream",
     "text": [
      "iris dataset loaded...\n"
     ]
    }
   ],
   "source": [
    "# load the dataset\n",
    "\n",
    "iris = datasets.load_iris()\n",
    "print('iris dataset loaded...')"
   ]
  },
  {
   "cell_type": "code",
   "execution_count": 11,
   "metadata": {},
   "outputs": [
    {
     "name": "stdout",
     "output_type": "stream",
     "text": [
      "dataset split into training and testing...\n",
      "Size of training data and its label (135, 4) (135,)\n",
      "Size of testing data and its label (15, 4) (15,)\n"
     ]
    }
   ],
   "source": [
    "# split data into the train and test samples\n",
    "\n",
    "x_train, x_test, y_train, y_test = train_test_split(iris.data, iris.target, test_size=0.1)\n",
    "\n",
    "print('dataset split into training and testing...')\n",
    "print('Size of training data and its label', x_train.shape, y_train.shape)\n",
    "print('Size of testing data and its label', x_test.shape, y_test.shape)"
   ]
  },
  {
   "cell_type": "code",
   "execution_count": 12,
   "metadata": {},
   "outputs": [
    {
     "name": "stdout",
     "output_type": "stream",
     "text": [
      "label 0  -  setosa\n",
      "label 1  -  versicolor\n",
      "label 2  -  virginica\n"
     ]
    }
   ],
   "source": [
    "# print label number and their names\n",
    "\n",
    "for i in range(len(iris.target_names)):\n",
    "    print(\"label\", i, \" - \", str(iris.target_names[i]))"
   ]
  },
  {
   "cell_type": "code",
   "execution_count": 13,
   "metadata": {},
   "outputs": [],
   "source": [
    "# create object of KNN Classifier\n",
    "\n",
    "classifier = KNeighborsClassifier(n_neighbors=1)"
   ]
  },
  {
   "cell_type": "code",
   "execution_count": 14,
   "metadata": {},
   "outputs": [
    {
     "data": {
      "text/plain": [
       "KNeighborsClassifier(n_neighbors=1)"
      ]
     },
     "execution_count": 14,
     "metadata": {},
     "output_type": "execute_result"
    }
   ],
   "source": [
    "# perform training\n",
    "\n",
    "classifier.fit(x_train, y_train)"
   ]
  },
  {
   "cell_type": "code",
   "execution_count": 15,
   "metadata": {},
   "outputs": [],
   "source": [
    "# perform testing\n",
    "\n",
    "y_pred = classifier.predict(x_test)"
   ]
  },
  {
   "cell_type": "code",
   "execution_count": 16,
   "metadata": {},
   "outputs": [
    {
     "name": "stdout",
     "output_type": "stream",
     "text": [
      "Result of classification using KNN with k=1\n",
      "Sample:  [6.3 2.5 5.  1.9] Actual-label:  2 Predicted-label:  [2 0 1 2 1 0 2 1 1 2 0 1 0 2 1]\n",
      "Sample:  [5.4 3.9 1.7 0.4] Actual-label:  0 Predicted-label:  [2 0 1 2 1 0 2 1 1 2 0 1 0 2 1]\n",
      "Sample:  [6.3 3.3 4.7 1.6] Actual-label:  1 Predicted-label:  [2 0 1 2 1 0 2 1 1 2 0 1 0 2 1]\n",
      "Sample:  [5.8 2.7 5.1 1.9] Actual-label:  2 Predicted-label:  [2 0 1 2 1 0 2 1 1 2 0 1 0 2 1]\n",
      "Sample:  [6.4 2.9 4.3 1.3] Actual-label:  1 Predicted-label:  [2 0 1 2 1 0 2 1 1 2 0 1 0 2 1]\n",
      "Sample:  [5.1 3.5 1.4 0.3] Actual-label:  0 Predicted-label:  [2 0 1 2 1 0 2 1 1 2 0 1 0 2 1]\n",
      "Sample:  [5.7 2.5 5.  2. ] Actual-label:  2 Predicted-label:  [2 0 1 2 1 0 2 1 1 2 0 1 0 2 1]\n",
      "Sample:  [6.1 3.  4.6 1.4] Actual-label:  1 Predicted-label:  [2 0 1 2 1 0 2 1 1 2 0 1 0 2 1]\n",
      "Sample:  [5.  2.  3.5 1. ] Actual-label:  1 Predicted-label:  [2 0 1 2 1 0 2 1 1 2 0 1 0 2 1]\n",
      "Sample:  [6.9 3.1 5.1 2.3] Actual-label:  2 Predicted-label:  [2 0 1 2 1 0 2 1 1 2 0 1 0 2 1]\n",
      "Sample:  [5.  3.5 1.3 0.3] Actual-label:  0 Predicted-label:  [2 0 1 2 1 0 2 1 1 2 0 1 0 2 1]\n",
      "Sample:  [6.  2.2 4.  1. ] Actual-label:  1 Predicted-label:  [2 0 1 2 1 0 2 1 1 2 0 1 0 2 1]\n",
      "Sample:  [5.  3.4 1.6 0.4] Actual-label:  0 Predicted-label:  [2 0 1 2 1 0 2 1 1 2 0 1 0 2 1]\n",
      "Sample:  [7.4 2.8 6.1 1.9] Actual-label:  2 Predicted-label:  [2 0 1 2 1 0 2 1 1 2 0 1 0 2 1]\n",
      "Sample:  [5.4 3.  4.5 1.5] Actual-label:  1 Predicted-label:  [2 0 1 2 1 0 2 1 1 2 0 1 0 2 1]\n",
      "Classification Accuracy:  1.0\n"
     ]
    }
   ],
   "source": [
    "# display results\n",
    "\n",
    "print(\"Result of classification using KNN with k=1\")\n",
    "\n",
    "for r in range(0, len(x_test)):\n",
    "    print(\"Sample: \", str(x_test[r]), \"Actual-label: \", str(y_test[r]), \"Predicted-label: \", str(y_pred))\n",
    "\n",
    "print(\"Classification Accuracy: \", classifier.score(x_test, y_test))"
   ]
  }
 ],
 "metadata": {
  "kernelspec": {
   "display_name": "Python 3.10.7 64-bit (microsoft store)",
   "language": "python",
   "name": "python3"
  },
  "language_info": {
   "codemirror_mode": {
    "name": "ipython",
    "version": 3
   },
   "file_extension": ".py",
   "mimetype": "text/x-python",
   "name": "python",
   "nbconvert_exporter": "python",
   "pygments_lexer": "ipython3",
   "version": "3.10.7"
  },
  "orig_nbformat": 4,
  "vscode": {
   "interpreter": {
    "hash": "9e35676d33e03a9093a17dc7760f2b2aa4960ff6d3c0d7dc06348afdc0ca22c8"
   }
  }
 },
 "nbformat": 4,
 "nbformat_minor": 2
}
