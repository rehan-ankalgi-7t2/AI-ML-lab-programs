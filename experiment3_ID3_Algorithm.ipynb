{
 "cells": [
  {
   "cell_type": "code",
   "execution_count": null,
   "metadata": {},
   "outputs": [],
   "source": [
    "import numpy as np\n",
    "import pandas as pd\n",
    "from pprint import pprint\n",
    "\n",
    "data = pd.read_csv(\"Weather.csv\")\n",
    "data_size = len(data)\n",
    "treenodes = []\n",
    "tree = {\n",
    "    \"ROOT\": data\n",
    "}"
   ]
  },
  {
   "cell_type": "code",
   "execution_count": null,
   "metadata": {},
   "outputs": [],
   "source": [
    "def total_entropy(data, col):\n",
    "    mydict = {}\n",
    "    for elem in data[col]:\n",
    "        if elem in mydict.keys():\n",
    "            mydict[elem] += 1\n",
    "        else:\n",
    "            mydict[elem] = 1\n",
    "\n",
    "    total = sum(mydict.values())\n",
    "    E = 0\n",
    "\n",
    "    for key in mydict.keys():\n",
    "        E += entropy(mydict[key], total)\n",
    "    \n",
    "    return E"
   ]
  },
  {
   "cell_type": "code",
   "execution_count": null,
   "metadata": {},
   "outputs": [],
   "source": [
    "def entropy(num, denom):\n",
    "    return -(num/denom)*np.log2(num/denom)"
   ]
  },
  {
   "cell_type": "code",
   "execution_count": null,
   "metadata": {},
   "outputs": [],
   "source": [
    "def get_stored_data(data, column):\n",
    "    sort = {}\n",
    "\n",
    "    for column_name in get_attributes(data, column):\n",
    "        sort[column_name] = data.loc[data[column] == column_name]\n",
    "\n",
    "    return sort"
   ]
  },
  {
   "cell_type": "code",
   "execution_count": null,
   "metadata": {},
   "outputs": [],
   "source": [
    "def get_attributes(data, column):\n",
    "    return data[column].unique().tolist()"
   ]
  },
  {
   "cell_type": "code",
   "execution_count": null,
   "metadata": {},
   "outputs": [],
   "source": [
    "def info_gain(total_entropy, sorted_data, entropy_by_attribute):\n",
    "    length = data_size\n",
    "    total = 0\n",
    "    for col, df in sorted_data.items():\n",
    "        total += (len(df)/length)*entropy_by_attribute[col]\n",
    "\n",
    "    return total_entropy - total"
   ]
  },
  {
   "cell_type": "code",
   "execution_count": null,
   "metadata": {},
   "outputs": [],
   "source": [
    "def get_entropy_by_attribute(sorted_data):\n",
    "    entropies ={}\n",
    "    for key, df in sorted_data.items():\n",
    "        entropies[key] = total_entropy(df, 'Decision')\n",
    "\n",
    "    return entropies"
   ]
  },
  {
   "cell_type": "code",
   "execution_count": null,
   "metadata": {},
   "outputs": [],
   "source": [
    "def drop_node(data, column):\n",
    "    return data.drop(column, axis = 1)"
   ]
  }
 ],
 "metadata": {
  "language_info": {
   "name": "python"
  },
  "orig_nbformat": 4
 },
 "nbformat": 4,
 "nbformat_minor": 2
}
