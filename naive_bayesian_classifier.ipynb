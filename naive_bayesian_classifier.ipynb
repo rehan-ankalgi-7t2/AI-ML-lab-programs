{
 "cells": [
  {
   "cell_type": "code",
   "execution_count": 61,
   "metadata": {},
   "outputs": [],
   "source": [
    "import csv\n",
    "import random\n",
    "import math"
   ]
  },
  {
   "cell_type": "code",
   "execution_count": 62,
   "metadata": {},
   "outputs": [],
   "source": [
    "def loadCsv(filename):\n",
    "    lines = csv.reader(open(filename, \"r\"))\n",
    "    dataset = list(lines)\n",
    "    for i in range(len(dataset)):\n",
    "        dataset[i] = [float(x) for x in dataset[i]]\n",
    "    \n",
    "    return dataset"
   ]
  },
  {
   "cell_type": "code",
   "execution_count": 63,
   "metadata": {},
   "outputs": [],
   "source": [
    "def splitDataset(dataset, splitRatio): \n",
    "    #67% training size \n",
    "    trainSize = int(len(dataset) * splitRatio) \n",
    "    trainSet = [] \n",
    "    copy = list(dataset)\n",
    "    while len(trainSet) < trainSize: \n",
    "        #generate indices for the dataset list randomly to pick ele for training data \n",
    "        index = random.randrange(len(copy))\n",
    "        trainSet.append(copy.pop(index))\n",
    "    return [trainSet, copy]"
   ]
  },
  {
   "cell_type": "code",
   "execution_count": 64,
   "metadata": {},
   "outputs": [],
   "source": [
    "def separateByClass(dataset): \n",
    "    separated = {} \n",
    "    #creates a dictionary of classes 1 and 0 where the values are the instacnes belonging to each class \n",
    "    for i in range(len(dataset)): \n",
    "        vector = dataset[i] \n",
    "        if (vector[-1] not in separated): \n",
    "            separated[vector[-1]] = [] \n",
    "        separated[vector[-1]].append(vector) \n",
    "    return separated"
   ]
  },
  {
   "cell_type": "code",
   "execution_count": 65,
   "metadata": {},
   "outputs": [],
   "source": [
    "def mean(numbers): \n",
    "    return sum(numbers)/float(len(numbers))"
   ]
  },
  {
   "cell_type": "code",
   "execution_count": 66,
   "metadata": {},
   "outputs": [],
   "source": [
    "def stdev(numbers): \n",
    "    avg = mean(numbers) \n",
    "    variance = sum([pow(x-avg,2) for x in numbers])/float(len(numbers)-1) \n",
    "    return math.sqrt(variance)"
   ]
  },
  {
   "cell_type": "code",
   "execution_count": 67,
   "metadata": {},
   "outputs": [],
   "source": [
    "def summarize(dataset): \n",
    "    summaries = [(mean(attribute), stdev(attribute)) for attribute in zip(*dataset)]\n",
    "    del summaries[-1] \n",
    "    return summaries"
   ]
  },
  {
   "cell_type": "code",
   "execution_count": 68,
   "metadata": {},
   "outputs": [],
   "source": [
    "def summarizeByClass(dataset): \n",
    "    separated = separateByClass(dataset)\n",
    "    summaries = {} \n",
    "    for classValue, instances in separated.items(): \n",
    "        #summaries is a dic of tuples(mean,std) for each class value \n",
    "        summaries[classValue] = summarize(instances) \n",
    "    return summaries"
   ]
  },
  {
   "cell_type": "code",
   "execution_count": 69,
   "metadata": {},
   "outputs": [],
   "source": [
    "def calculateProbability(x, mean, stdev): \n",
    "    exponent = math.exp(-(math.pow(x-mean,2)/(2*math.pow(stdev,2)))) \n",
    "    return (1 / (math.sqrt(2*math.pi) * stdev)) * exponent"
   ]
  },
  {
   "cell_type": "code",
   "execution_count": 70,
   "metadata": {},
   "outputs": [],
   "source": [
    "def calculateClassProbabilities(summaries, inputVector): \n",
    "    probabilities = {} \n",
    "    for classValue, classSummaries in summaries.items():\n",
    "        #class and attribute information as mean and sd \n",
    "        probabilities[classValue] = 1\n",
    "        for i in range(len(classSummaries)): \n",
    "            mean, stdev = classSummaries[i] \n",
    "            x = inputVector[i]\n",
    "            probabilities[classValue] *= calculateProbability(x, mean, stdev)\n",
    "    return probabilities"
   ]
  },
  {
   "cell_type": "code",
   "execution_count": 71,
   "metadata": {},
   "outputs": [],
   "source": [
    "def predict(summaries, inputVector):\n",
    "    probabilities = calculateClassProbabilities(summaries, inputVector) \n",
    "    bestLabel, bestProb = None, -1 \n",
    "    for classValue, probability in probabilities.items():\n",
    "        #assigns that class which has he highest prob \n",
    "        if bestLabel is None or probability > bestProb: \n",
    "            bestProb = probability \n",
    "            bestLabel = classValue \n",
    "    return bestLabel"
   ]
  },
  {
   "cell_type": "code",
   "execution_count": 72,
   "metadata": {},
   "outputs": [],
   "source": [
    "def getPredictions(summaries, testSet): \n",
    "    predictions = [] \n",
    "    for i in range(len(testSet)): \n",
    "        result = predict(summaries, testSet[i]) \n",
    "        predictions.append(result) \n",
    "    return predictions"
   ]
  },
  {
   "cell_type": "code",
   "execution_count": 73,
   "metadata": {},
   "outputs": [],
   "source": [
    "def getAccuracy(testSet, predictions): \n",
    "    correct = 0 \n",
    "    for i in range(len(testSet)): \n",
    "        if testSet[i][-1] == predictions[i]: \n",
    "            correct += 1 \n",
    "    return (correct/float(len(testSet))) * 100.0"
   ]
  },
  {
   "cell_type": "code",
   "execution_count": 74,
   "metadata": {},
   "outputs": [],
   "source": [
    "def main(): \n",
    "    filename = 'pima-indians-diabetes.csv'\n",
    "    splitRatio = 0.67 \n",
    "    dataset = loadCsv(filename) \n",
    "    trainingSet, testSet = splitDataset(dataset, splitRatio) \n",
    "    print('Split {0} rows into train={1} and test={2} rows'.format(len(dataset), len(trainingSet), \n",
    "    len(testSet))) \n",
    "    summaries = summarizeByClass(trainingSet);\n",
    "    predictions = getPredictions(summaries, testSet)\n",
    "    accuracy = getAccuracy(testSet, predictions) \n",
    "    print('Accuracy of the classifier is : {0}%'.format(accuracy))"
   ]
  },
  {
   "cell_type": "code",
   "execution_count": 75,
   "metadata": {},
   "outputs": [
    {
     "name": "stdout",
     "output_type": "stream",
     "text": [
      "Split 768 rows into train=514 and test=254 rows\n",
      "Accuracy of the classifier is : 75.59055118110236%\n"
     ]
    }
   ],
   "source": [
    "main()"
   ]
  }
 ],
 "metadata": {
  "interpreter": {
   "hash": "535e7dfa4e79b8a16ee5958c03c29abfca9eab7a4cbaa00a7baba8beca86875c"
  },
  "kernelspec": {
   "display_name": "Python 3.10.0 64-bit",
   "language": "python",
   "name": "python3"
  },
  "language_info": {
   "codemirror_mode": {
    "name": "ipython",
    "version": 3
   },
   "file_extension": ".py",
   "mimetype": "text/x-python",
   "name": "python",
   "nbconvert_exporter": "python",
   "pygments_lexer": "ipython3",
   "version": "3.10.0"
  },
  "orig_nbformat": 4
 },
 "nbformat": 4,
 "nbformat_minor": 2
}
